{
  "nbformat": 4,
  "nbformat_minor": 0,
  "metadata": {
    "colab": {
      "name": "Tic-Tac-Toe (Pt1).ipynb",
      "provenance": []
    },
    "kernelspec": {
      "name": "python3",
      "display_name": "Python 3"
    },
    "language_info": {
      "name": "python"
    }
  },
  "cells": [
    {
      "cell_type": "markdown",
      "source": [
        "# Initialize"
      ],
      "metadata": {
        "id": "1hTaT9LhcVPx"
      }
    },
    {
      "cell_type": "code",
      "source": [
        "board = {1: ' ', 2: ' ', 3: ' ',\n",
        "         4: ' ', 5: ' ', 6: ' ',\n",
        "         7: ' ', 8: ' ', 9: ' '}\n",
        "         \n",
        "player = 'O'\n",
        "bot = 'X'"
      ],
      "metadata": {
        "id": "l6xtLfczccKH"
      },
      "execution_count": 10,
      "outputs": []
    },
    {
      "cell_type": "markdown",
      "source": [
        "# Board"
      ],
      "metadata": {
        "id": "LljOS6j8bKHM"
      }
    },
    {
      "cell_type": "code",
      "execution_count": 2,
      "metadata": {
        "id": "1w9bjcW8bABo"
      },
      "outputs": [],
      "source": [
        "def printBoard(board):\n",
        "    print(board[1] + '|' + board[2] + '|' + board[3])\n",
        "    print('-+-+-')\n",
        "    print(board[4] + '|' + board[5] + '|' + board[6])\n",
        "    print('-+-+-')\n",
        "    print(board[7] + '|' + board[8] + '|' + board[9])\n",
        "    print(\"\\n\")"
      ]
    },
    {
      "cell_type": "markdown",
      "source": [
        "# Space Check"
      ],
      "metadata": {
        "id": "CXBUP02gbL0B"
      }
    },
    {
      "cell_type": "code",
      "source": [
        "def spaceIsFree(position):\n",
        "    if board[position] == ' ':\n",
        "        return True\n",
        "    else:\n",
        "        return False"
      ],
      "metadata": {
        "id": "ZJGidkrObPGH"
      },
      "execution_count": 3,
      "outputs": []
    },
    {
      "cell_type": "markdown",
      "source": [
        "# Draw Check"
      ],
      "metadata": {
        "id": "ttLFdxQBb3z7"
      }
    },
    {
      "cell_type": "code",
      "source": [
        "def checkDraw():\n",
        "    for key in board.keys():\n",
        "        if (board[key] == ' '):\n",
        "            return False\n",
        "    return True"
      ],
      "metadata": {
        "id": "2SuKmC9wb5db"
      },
      "execution_count": 4,
      "outputs": []
    },
    {
      "cell_type": "markdown",
      "source": [
        "# Win Check"
      ],
      "metadata": {
        "id": "2_3TATxIbPpX"
      }
    },
    {
      "cell_type": "code",
      "source": [
        "def checkForWin():\n",
        "    if (board[1] == board[2] and board[1] == board[3] and board[1] != ' '):\n",
        "        return True\n",
        "    elif (board[4] == board[5] and board[4] == board[6] and board[4] != ' '):\n",
        "        return True\n",
        "    elif (board[7] == board[8] and board[7] == board[9] and board[7] != ' '):\n",
        "        return True\n",
        "    elif (board[1] == board[4] and board[1] == board[7] and board[1] != ' '):\n",
        "        return True\n",
        "    elif (board[2] == board[5] and board[2] == board[8] and board[2] != ' '):\n",
        "        return True\n",
        "    elif (board[3] == board[6] and board[3] == board[9] and board[3] != ' '):\n",
        "        return True\n",
        "    elif (board[1] == board[5] and board[1] == board[9] and board[1] != ' '):\n",
        "        return True\n",
        "    elif (board[7] == board[5] and board[7] == board[3] and board[7] != ' '):\n",
        "        return True\n",
        "    else:\n",
        "        return False"
      ],
      "metadata": {
        "id": "6LLeW4BZbT-N"
      },
      "execution_count": 5,
      "outputs": []
    },
    {
      "cell_type": "markdown",
      "source": [
        "# Play Letter"
      ],
      "metadata": {
        "id": "6aicTfeKbf7P"
      }
    },
    {
      "cell_type": "code",
      "source": [
        "def insertLetter(letter, position):\n",
        "    if spaceIsFree(position):\n",
        "        board[position] = letter\n",
        "        printBoard(board)\n",
        "        if checkDraw():\n",
        "            print(\"Draw!\")\n",
        "            exit()\n",
        "        if checkForWin():\n",
        "            if letter == 'X':\n",
        "                print(\"X wins!\")\n",
        "                exit()\n",
        "            else:\n",
        "                print(\"O wins!\")\n",
        "                exit()\n",
        "        return\n",
        "\n",
        "    else:\n",
        "        print(\"Can't insert there!\")\n",
        "        position = int(input(\"Please enter new position:  \"))\n",
        "        insertLetter(letter, position)\n",
        "        return"
      ],
      "metadata": {
        "id": "tR3zljR8bjVI"
      },
      "execution_count": 6,
      "outputs": []
    },
    {
      "cell_type": "markdown",
      "source": [
        "# Player Move"
      ],
      "metadata": {
        "id": "glidFfFsbUjW"
      }
    },
    {
      "cell_type": "code",
      "source": [
        "def playerMove():\n",
        "    position = int(input(\"Enter the position for 'O':  \"))\n",
        "    insertLetter(player, position)\n",
        "    return"
      ],
      "metadata": {
        "id": "KphxDAsPcJan"
      },
      "execution_count": 7,
      "outputs": []
    },
    {
      "cell_type": "markdown",
      "source": [
        "# Bot Move"
      ],
      "metadata": {
        "id": "Rw_QvFzicLD_"
      }
    },
    {
      "cell_type": "code",
      "source": [
        "def botMove():\n",
        "    position = int(input(\"Enter the position for 'X':  \"))\n",
        "    insertLetter(bot, position)\n",
        "    return"
      ],
      "metadata": {
        "id": "Y_hWnqImcMiY"
      },
      "execution_count": 8,
      "outputs": []
    },
    {
      "cell_type": "markdown",
      "source": [
        "# Start"
      ],
      "metadata": {
        "id": "-NdwN0l5ckZZ"
      }
    },
    {
      "cell_type": "code",
      "source": [
        "while not checkForWin():\n",
        "  botMove()\n",
        "  playerMove()"
      ],
      "metadata": {
        "colab": {
          "base_uri": "https://localhost:8080/"
        },
        "id": "jK2dDVSYclyT",
        "outputId": "1c4b4310-07bb-490a-9c91-5db3ad53be82"
      },
      "execution_count": 11,
      "outputs": [
        {
          "output_type": "stream",
          "name": "stdout",
          "text": [
            "Enter the position for 'X':  1\n",
            "X| | \n",
            "-+-+-\n",
            " | | \n",
            "-+-+-\n",
            " | | \n",
            "\n",
            "\n",
            "Enter the position for 'O':  6\n",
            "X| | \n",
            "-+-+-\n",
            " | |O\n",
            "-+-+-\n",
            " | | \n",
            "\n",
            "\n",
            "Enter the position for 'X':  8\n",
            "X| | \n",
            "-+-+-\n",
            " | |O\n",
            "-+-+-\n",
            " |X| \n",
            "\n",
            "\n",
            "Enter the position for 'O':  3\n",
            "X| |O\n",
            "-+-+-\n",
            " | |O\n",
            "-+-+-\n",
            " |X| \n",
            "\n",
            "\n",
            "Enter the position for 'X':  5\n",
            "X| |O\n",
            "-+-+-\n",
            " |X|O\n",
            "-+-+-\n",
            " |X| \n",
            "\n",
            "\n",
            "Enter the position for 'O':  3\n",
            "Can't insert there!\n",
            "Please enter new position:  9\n",
            "X| |O\n",
            "-+-+-\n",
            " |X|O\n",
            "-+-+-\n",
            " |X|O\n",
            "\n",
            "\n",
            "O wins!\n"
          ]
        }
      ]
    }
  ]
}